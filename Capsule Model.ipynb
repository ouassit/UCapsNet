{
 "cells": [
  {
   "cell_type": "code",
   "execution_count": 2,
   "metadata": {},
   "outputs": [
    {
     "name": "stdout",
     "output_type": "stream",
     "text": [
      "1.13.1\n"
     ]
    }
   ],
   "source": [
    "import tensorflow as tf; print(tf.__version__)"
   ]
  },
  {
   "cell_type": "code",
   "execution_count": 13,
   "metadata": {
    "executionInfo": {
     "elapsed": 366,
     "status": "ok",
     "timestamp": 1673277177028,
     "user": {
      "displayName": "ouassit",
      "userId": "10473803447322388637"
     },
     "user_tz": -60
    },
    "id": "J3_KT-f71b_p"
   },
   "outputs": [],
   "source": [
    "import sys  \n",
    "sys.path.insert(0, 'Python Codes/Models/SegCaps')\n"
   ]
  },
  {
   "cell_type": "code",
   "execution_count": null,
   "metadata": {
    "colab": {
     "base_uri": "https://localhost:8080/"
    },
    "executionInfo": {
     "elapsed": 6709,
     "status": "ok",
     "timestamp": 1673277186723,
     "user": {
      "displayName": "ouassit",
      "userId": "10473803447322388637"
     },
     "user_tz": -60
    },
    "id": "IqIID8AZ46Yh",
    "outputId": "39e451b5-eaca-4df2-cc2a-7447c04284cb"
   },
   "outputs": [],
   "source": [
    "!pip uninstall keras\n",
    "!pip uninstall tensorflow"
   ]
  },
  {
   "cell_type": "code",
   "execution_count": null,
   "metadata": {
    "colab": {
     "base_uri": "https://localhost:8080/"
    },
    "executionInfo": {
     "elapsed": 7811,
     "status": "ok",
     "timestamp": 1673277438855,
     "user": {
      "displayName": "ouassit",
      "userId": "10473803447322388637"
     },
     "user_tz": -60
    },
    "id": "pkEsLYUx56Ni",
    "outputId": "467439fe-e7f3-4346-db9c-ef797ef796ad"
   },
   "outputs": [],
   "source": [
    "!pip install tensorflow==1.13.1\n",
    "!pip install keras==2.2.4"
   ]
  },
  {
   "cell_type": "code",
   "execution_count": 3,
   "metadata": {
    "colab": {
     "base_uri": "https://localhost:8080/"
    },
    "executionInfo": {
     "elapsed": 3900,
     "status": "ok",
     "timestamp": 1673277390296,
     "user": {
      "displayName": "ouassit",
      "userId": "10473803447322388637"
     },
     "user_tz": -60
    },
    "id": "B5GRLHgc1BSj",
    "outputId": "136e98a7-8ed2-4684-abbe-eddc69697f88"
   },
   "outputs": [
    {
     "name": "stderr",
     "output_type": "stream",
     "text": [
      "Using TensorFlow backend.\n"
     ]
    }
   ],
   "source": [
    "import capsnet\n"
   ]
  },
  {
   "cell_type": "code",
   "execution_count": 4,
   "metadata": {
    "colab": {
     "base_uri": "https://localhost:8080/",
     "height": 311
    },
    "executionInfo": {
     "elapsed": 480,
     "status": "error",
     "timestamp": 1673277394351,
     "user": {
      "displayName": "ouassit",
      "userId": "10473803447322388637"
     },
     "user_tz": -60
    },
    "id": "VhJYje7O6SNc",
    "outputId": "b77b3b23-158c-4b1a-ed18-539f3c7be977"
   },
   "outputs": [
    {
     "name": "stdout",
     "output_type": "stream",
     "text": [
      "WARNING:tensorflow:From C:\\Users\\jok4d\\anaconda3\\envs\\py37\\lib\\site-packages\\tensorflow\\python\\framework\\op_def_library.py:263: colocate_with (from tensorflow.python.framework.ops) is deprecated and will be removed in a future version.\n",
      "Instructions for updating:\n",
      "Colocations handled automatically by placer.\n",
      "WARNING:tensorflow:From D:\\Python Codes\\Models\\SegCaps\\capsule_layers.py:324: calling softmax (from tensorflow.python.ops.nn_ops) with dim is deprecated and will be removed in a future version.\n",
      "Instructions for updating:\n",
      "dim is deprecated, use axis instead\n",
      "WARNING:tensorflow:From D:\\Python Codes\\Models\\SegCaps\\capsule_layers.py:353: calling norm (from tensorflow.python.ops.linalg_ops) with keep_dims is deprecated and will be removed in a future version.\n",
      "Instructions for updating:\n",
      "keep_dims is deprecated, use keepdims instead\n"
     ]
    }
   ],
   "source": [
    "model = capsnet.CapsNetR3((512, 512, 1))"
   ]
  },
  {
   "cell_type": "code",
   "execution_count": 16,
   "metadata": {
    "id": "f4_42iuZ6mnc"
   },
   "outputs": [
    {
     "name": "stdout",
     "output_type": "stream",
     "text": [
      "__________________________________________________________________________________________________\n",
      "Layer (type)                    Output Shape         Param #     Connected to                     \n",
      "==================================================================================================\n",
      "input_11 (InputLayer)           (None, 512, 512, 1)  0                                            \n",
      "__________________________________________________________________________________________________\n",
      "conv1 (Conv2D)                  (None, 512, 512, 16) 416         input_11[0][0]                   \n",
      "__________________________________________________________________________________________________\n",
      "reshape_12 (Reshape)            (None, 512, 512, 1,  0           conv1[0][0]                      \n",
      "__________________________________________________________________________________________________\n",
      "primarycaps (ConvCapsuleLayer)  (None, 256, 256, 2,  12832       reshape_12[0][0]                 \n",
      "__________________________________________________________________________________________________\n",
      "conv_cap_2_1 (ConvCapsuleLayer) (None, 256, 256, 4,  25664       primarycaps[0][0]                \n",
      "__________________________________________________________________________________________________\n",
      "conv_cap_2_2 (ConvCapsuleLayer) (None, 128, 128, 4,  51328       conv_cap_2_1[0][0]               \n",
      "__________________________________________________________________________________________________\n",
      "conv_cap_3_1 (ConvCapsuleLayer) (None, 128, 128, 8,  205056      conv_cap_2_2[0][0]               \n",
      "__________________________________________________________________________________________________\n",
      "conv_cap_3_2 (ConvCapsuleLayer) (None, 64, 64, 8, 64 410112      conv_cap_3_1[0][0]               \n",
      "__________________________________________________________________________________________________\n",
      "conv_cap_4_1 (ConvCapsuleLayer) (None, 64, 64, 8, 32 409856      conv_cap_3_2[0][0]               \n",
      "__________________________________________________________________________________________________\n",
      "deconv_cap_1_1 (DeconvCapsuleLa (None, 128, 128, 8,  131328      conv_cap_4_1[0][0]               \n",
      "__________________________________________________________________________________________________\n",
      "up_1 (Concatenate)              (None, 128, 128, 16, 0           deconv_cap_1_1[0][0]             \n",
      "                                                                 conv_cap_3_1[0][0]               \n",
      "__________________________________________________________________________________________________\n",
      "deconv_cap_1_2 (ConvCapsuleLaye (None, 128, 128, 4,  102528      up_1[0][0]                       \n",
      "__________________________________________________________________________________________________\n",
      "deconv_cap_2_1 (DeconvCapsuleLa (None, 256, 256, 4,  32832       deconv_cap_1_2[0][0]             \n",
      "__________________________________________________________________________________________________\n",
      "up_2 (Concatenate)              (None, 256, 256, 8,  0           deconv_cap_2_1[0][0]             \n",
      "                                                                 conv_cap_2_1[0][0]               \n",
      "__________________________________________________________________________________________________\n",
      "deconv_cap_2_2 (ConvCapsuleLaye (None, 256, 256, 4,  25664       up_2[0][0]                       \n",
      "__________________________________________________________________________________________________\n",
      "deconv_cap_3_1 (DeconvCapsuleLa (None, 512, 512, 2,  8224        deconv_cap_2_2[0][0]             \n",
      "__________________________________________________________________________________________________\n",
      "up_3 (Concatenate)              (None, 512, 512, 3,  0           deconv_cap_3_1[0][0]             \n",
      "                                                                 reshape_12[0][0]                 \n",
      "__________________________________________________________________________________________________\n",
      "seg_caps (ConvCapsuleLayer)     (None, 512, 512, 1,  272         up_3[0][0]                       \n",
      "__________________________________________________________________________________________________\n",
      "input_12 (InputLayer)           (None, 512, 512, 1)  0                                            \n",
      "__________________________________________________________________________________________________\n",
      "mask_4 (Mask)                   (None, 512, 512, 1,  0           seg_caps[0][0]                   \n",
      "                                                                 input_12[0][0]                   \n",
      "__________________________________________________________________________________________________\n",
      "reshape_13 (Reshape)            (None, 512, 512, 16) 0           mask_4[0][0]                     \n",
      "__________________________________________________________________________________________________\n",
      "recon_1 (Conv2D)                (None, 512, 512, 64) 1088        reshape_13[0][0]                 \n",
      "__________________________________________________________________________________________________\n",
      "recon_2 (Conv2D)                (None, 512, 512, 128 8320        recon_1[0][0]                    \n",
      "__________________________________________________________________________________________________\n",
      "out_seg (Length)                (None, 512, 512, 1)  0           seg_caps[0][0]                   \n",
      "__________________________________________________________________________________________________\n",
      "out_recon (Conv2D)              (None, 512, 512, 1)  129         recon_2[0][0]                    \n",
      "==================================================================================================\n",
      "Total params: 1,425,649\n",
      "Trainable params: 1,425,649\n",
      "Non-trainable params: 0\n",
      "__________________________________________________________________________________________________\n"
     ]
    }
   ],
   "source": [
    "from keras.utils import print_summary\n",
    "\n",
    "model[0].summary()\n",
    "\n",
    "# Open the file\n",
    "with open('report.txt','w') as fh:\n",
    "    # Pass the file handle in as a lambda function to make it callable\n",
    "    model[0].summary(print_fn=lambda x: fh.write(x + '\\n'))\n",
    "\n"
   ]
  },
  {
   "cell_type": "code",
   "execution_count": 7,
   "metadata": {
    "colab": {
     "base_uri": "https://localhost:8080/"
    },
    "executionInfo": {
     "elapsed": 1478,
     "status": "ok",
     "timestamp": 1665143526975,
     "user": {
      "displayName": "ouassit",
      "userId": "10473803447322388637"
     },
     "user_tz": -60
    },
    "id": "S95XYViTQ2Sk",
    "outputId": "2cdbea0d-1d54-4998-82ab-b43e42197139"
   },
   "outputs": [
    {
     "name": "stdout",
     "output_type": "stream",
     "text": [
      "_________________________________________________________________\n",
      "Layer (type)                 Output Shape              Param #   \n",
      "=================================================================\n",
      "input_6 (InputLayer)         (None, 512, 512, 1)       0         \n",
      "_________________________________________________________________\n",
      "conv1 (Conv2D)               (None, 512, 512, 32)      832       \n",
      "_________________________________________________________________\n",
      "conv2 (Conv2D)               (None, 512, 512, 64)      51264     \n",
      "_________________________________________________________________\n",
      "conv3 (Conv2D)               (None, 512, 512, 128)     204928    \n",
      "_________________________________________________________________\n",
      "conv4 (Conv2D)               (None, 256, 256, 256)     819456    \n",
      "_________________________________________________________________\n",
      "reshape_7 (Reshape)          (None, 256, 256, 2, 128)  0         \n",
      "_________________________________________________________________\n",
      "conv_cap_0 (ConvCapsuleLayer (None, 256, 256, 2, 128)  819456    \n",
      "_________________________________________________________________\n",
      "conv_cap_1 (ConvCapsuleLayer (None, 128, 128, 2, 128)  819456    \n",
      "_________________________________________________________________\n",
      "conv_cap_2 (ConvCapsuleLayer (None, 128, 128, 4, 64)   819456    \n",
      "_________________________________________________________________\n",
      "conv_cap_3 (ConvCapsuleLayer (None, 64, 64, 4, 128)    819712    \n",
      "_________________________________________________________________\n",
      "conv_cap_4 (ConvCapsuleLayer (None, 64, 64, 8, 64)     1638912   \n",
      "_________________________________________________________________\n",
      "digit_caps (DeconvCapsuleLay (None, 512, 512, 0, 16)   0         \n",
      "_________________________________________________________________\n",
      "deconv_cap_1 (ConvCapsuleLay (None, 64, 64, 8, 64)     131584    \n",
      "_________________________________________________________________\n",
      "deconv_cap_2 (ConvCapsuleLay (None, 64, 64, 4, 128)    819712    \n",
      "_________________________________________________________________\n",
      "deconv_cap_3 (DeconvCapsuleL (None, 128, 128, 4, 64)   819456    \n",
      "_________________________________________________________________\n",
      "deconv_cap_4 (ConvCapsuleLay (None, 128, 128, 2, 128)  262400    \n",
      "_________________________________________________________________\n",
      "deconv_cap_5 (DeconvCapsuleL (None, 256, 256, 2, 128)  524544    \n",
      "_________________________________________________________________\n",
      "deconv_cap_6 (ConvCapsuleLay (None, 256, 256, 1, 256)  524544    \n",
      "_________________________________________________________________\n",
      "econv_cap_7 (DeconvCapsuleLa (None, 512, 512, 1, 128)  524416    \n",
      "_________________________________________________________________\n",
      "deconv_cap_8 (ConvCapsuleLay (None, 512, 512, 1, 64)   131136    \n",
      "_________________________________________________________________\n",
      "deconv_cap_9 (ConvCapsuleLay (None, 512, 512, 1, 32)   32800     \n",
      "_________________________________________________________________\n",
      "deconv_cap_10 (ConvCapsuleLa (None, 512, 512, 1, 16)   8208      \n",
      "_________________________________________________________________\n",
      "out_seg (Length)             (None, 512, 512, 1)       0         \n",
      "_________________________________________________________________\n",
      "conv2d_3 (Conv2D)            (None, 512, 512, 1)       2         \n",
      "=================================================================\n",
      "Total params: 9,772,274\n",
      "Trainable params: 9,772,274\n",
      "Non-trainable params: 0\n",
      "_________________________________________________________________\n"
     ]
    }
   ],
   "source": [
    "import importlib\n",
    "importlib.reload(capsnet)\n",
    "model = capsnet.CapsNetR3Custom((512, 512, 1))\n",
    "model.summary()"
   ]
  },
  {
   "cell_type": "code",
   "execution_count": null,
   "metadata": {},
   "outputs": [],
   "source": []
  },
  {
   "cell_type": "code",
   "execution_count": null,
   "metadata": {},
   "outputs": [],
   "source": []
  }
 ],
 "metadata": {
  "accelerator": "TPU",
  "colab": {
   "authorship_tag": "ABX9TyPkFDM/a1i4sLTJZ4sx6grY",
   "mount_file_id": "1FPutACblfhd3Zas_s8aqKhW16lpqeKzx",
   "provenance": []
  },
  "gpuClass": "standard",
  "kernelspec": {
   "display_name": "Python 3 (ipykernel)",
   "language": "python",
   "name": "python3"
  },
  "language_info": {
   "codemirror_mode": {
    "name": "ipython",
    "version": 3
   },
   "file_extension": ".py",
   "mimetype": "text/x-python",
   "name": "python",
   "nbconvert_exporter": "python",
   "pygments_lexer": "ipython3",
   "version": "3.9.7"
  }
 },
 "nbformat": 4,
 "nbformat_minor": 4
}
